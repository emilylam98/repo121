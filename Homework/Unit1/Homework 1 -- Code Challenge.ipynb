{
 "cells": [
  {
   "cell_type": "markdown",
   "metadata": {},
   "source": [
    "<img src=\"http://imgur.com/1ZcRyrc.png\" style=\"float: left; margin: 20px; height: 55px\">\n",
    "\n",
    "# Project 1: Python Coding Exercises\n",
    "\n",
    "_Authors: Joseph Nelson (DC) _\n",
    "\n",
    "---"
   ]
  },
  {
   "cell_type": "markdown",
   "metadata": {},
   "source": [
    "The following code challenges are drawn from common exercises used in technical interviews.\n",
    "\n",
    "Please note that there may be several ways to approach each challenge. If you get stuck, try mapping out your approach in pseudocode first. Finally, while solutions to problems like these may be found online, remember that if you copy/paste code that you can't explain, you'll be missing out on the point of the project. The only way to truly learn a new skill is through practice, trial, and error - we can only help you improve by understanding where you are having trouble."
   ]
  },
  {
   "cell_type": "markdown",
   "metadata": {},
   "source": [
    "### Challenge 1: Largest Palindrome\n",
    "A palindromic number reads the same both ways. For example, 1234321 is a palindrome. The largest palindrome made from the product of two two-digit numbers is 9009 = 91 × 99. Find the largest palindrome made from the product of two three-digit numbers. Afterward, write a brief explanation walking through your code's logic in markdown."
   ]
  },
  {
   "cell_type": "code",
   "execution_count": 15,
   "metadata": {},
   "outputs": [
    {
     "name": "stdout",
     "output_type": "stream",
     "text": [
      "906609\n"
     ]
    }
   ],
   "source": [
    "list1 = list(range(100,1001))\n",
    "list2 = list(range(100,1001))\n",
    "\n",
    "listmult=[]\n",
    "for n in list1:\n",
    "    for m in list2: \n",
    "        y=str(n*m)\n",
    "        if len(y) == 6:\n",
    "            if y[0]==y[5]:\n",
    "                if y[1]==y[4]:\n",
    "                    if y[2]==y[3]:\n",
    "                        listmult.append(y)\n",
    "    \n",
    "        \n",
    "print(max(listmult))\n",
    "\n",
    "#To get every possible multiplication result between 100-1000, I made two lists with those two ranges.\n",
    "#Then, for each number in list 1, I multiplied it by every value in list 2 \n",
    "#This was done by interating over each value(two for-loops)\n",
    "#Then, from each result, I let y represent the value of each product\n",
    "#For each product, I turned it into a string in order to slice each digit. \n",
    "#I also got rid of any number that was 5 digits or less, since the largest possible number was 999 * 999 (998001)\n",
    "#This way, I could check if the first digit was equal to the last, the second to the fifth, and the third to the fourth. \n",
    "#I put all of these into nested-if statements and if all these were satisfied, the digit was appended to listmult (empty list)\n",
    "#then I found the max of listmult, which was 90609. "
   ]
  },
  {
   "cell_type": "markdown",
   "metadata": {},
   "source": [
    "\n",
    "### Challenge 2: Summation of Primes\n",
    "The sum of the primes below 10 is 2 + 3 + 5 + 7 = 17. Find the sum of all the primes below 2,000. Afterward, write a brief explanation walking through your code's logic in markdown."
   ]
  },
  {
   "cell_type": "code",
   "execution_count": 41,
   "metadata": {},
   "outputs": [
    {
     "name": "stdout",
     "output_type": "stream",
     "text": [
      "277051\n"
     ]
    }
   ],
   "source": [
    "list1 = list(range(1,2000))\n",
    "\n",
    "primes = []\n",
    "for n in list1:\n",
    "    prime = True\n",
    "    for m in range(2,n):     \n",
    "        if n % m == 0:\n",
    "            prime = False\n",
    "        \n",
    "    if prime == True:\n",
    "        primes.append(n)\n",
    "            \n",
    "print(sum(primes))\n",
    "\n",
    "#I made a list1 with range 1-2000 to iterate through.\n",
    "#for each number in list1, I assumed prime=True\n",
    "#then made a for loop to check if all numbers n smaller than m (a number between 2 and n)\n",
    "#if any number (2,n) was divisible, n could not be prime, and prime value was changed to false. \n",
    "#Then, numbers that still had prime == true were appended to list primes. \n",
    "#At the end, all numbers in prime list were summed to get 277051."
   ]
  },
  {
   "cell_type": "markdown",
   "metadata": {},
   "source": [
    "### Challenge 3: Multiples of 3 and 5\n",
    "If we list all of the natural numbers below 10 that are multiples of 3 or 5, we get 3, 5, 6, and 9. The sum of these multiples is 23. Find the sum of all the multiples of 3 and 5 below 1,000. Afterward, write a brief explanation walking through your code's logic in markdown."
   ]
  },
  {
   "cell_type": "code",
   "execution_count": 47,
   "metadata": {},
   "outputs": [
    {
     "name": "stdout",
     "output_type": "stream",
     "text": [
      "233168\n"
     ]
    }
   ],
   "source": [
    "list1 = list(range(1,1000))\n",
    "threefive = []\n",
    "for n in list1:\n",
    "    if n%3==0 or n%5==0:\n",
    "        threefive.append(n)\n",
    "        \n",
    "print(sum(threefive))\n",
    "\n",
    "#Iterated over list1 (range 1-1000), to check if the number was divisible by 3 or 5. \n",
    "#If either was satisfied, then the number was appended into threefive (emptylist)\n",
    "#sum of list was then printed (233168)\n",
    "        "
   ]
  },
  {
   "cell_type": "markdown",
   "metadata": {},
   "source": [
    "### Challenge 4: String Compressor\n",
    "Implement a method to perform basic string compression using the counts of repeated characters. (This is called run-length encoding.) For example, the string \"aabcccccaaa\" would become a2b1c5a3. If the “compressed” string would not become smaller than the original string, your method should return the original string. You can assume the string has only uppercase and lowercase letters (a–z). Specify whether your solution is case sensitive or case insensitive and what you would need to change to make it the other. Afterward, write a brief explanation walking through your code's logic in markdown."
   ]
  },
  {
   "cell_type": "code",
   "execution_count": 219,
   "metadata": {},
   "outputs": [
    {
     "data": {
      "text/plain": [
       "'a2b1c2C4c2a3'"
      ]
     },
     "execution_count": 219,
     "metadata": {},
     "output_type": "execute_result"
    }
   ],
   "source": [
    "def stringcompressor(string):\n",
    "    new_string = \"\"\n",
    "    count = 0\n",
    "    tempstring = \"\"\n",
    "    for ch in string:\n",
    "        if tempstring ==\"\":\n",
    "            tempstring = ch\n",
    "            count = 1\n",
    "        else: \n",
    "            if ch == tempstring[0]:\n",
    "                count += 1 \n",
    "            else:\n",
    "                new_string += (tempstring[0] + str(count))\n",
    "                tempstring = ch\n",
    "                count = 1 \n",
    "   \n",
    "    new_string += (tempstring + str(count))          \n",
    "            \n",
    "    if len(new_string) >= len(string):\n",
    "        return string\n",
    "    else:\n",
    "        return new_string\n",
    "    \n",
    "stringcompressor('aabccCCCCccaaa')     "
   ]
  },
  {
   "cell_type": "code",
   "execution_count": 221,
   "metadata": {},
   "outputs": [],
   "source": [
    "#Function stringcompressor() was made to accept a string. \n",
    "#It is case sensitive, but if I were to add string=string.lower(), then it would not be case sensitive.\n",
    "#I made two empty strings and a count, new_string and tempstring would be empty and count=0 to set up the for loop\n",
    "#for loop was made to iterate through each character in the string. \n",
    "#To begin, an if statement would test if tempstring was empty, which it is. \n",
    "#This would set tempstring to the first character and count to 1, and iterate onto the next character.\n",
    "#if the character was equal to the first value in tempstring, then the count would increase \n",
    "#if the character was not equal to the first value in tempstring, \n",
    "#it would concatenate new_string with tempstring and the string count\n",
    "#because concatenation would only occur if the character was not equal to tempstring[0],\n",
    "# at the end i concatenated the final tempstring and string count. \n",
    "#then, i compared the lengths of the original string vs new string and returned the shorter string. "
   ]
  },
  {
   "cell_type": "markdown",
   "metadata": {},
   "source": [
    "### *BONUS* Challenge: FizzBuzz\n",
    "Write a program that prints all of the numbers from 1 to 100. For multiples of 3, instead of the number, print \"Fizz;\" for multiples of 5, print \"Buzz.\" For numbers that are multiples of both 3 and 5, print \"FizzBuzz.\" Afterward, write a brief explanation walking through your code's logic in markdown."
   ]
  },
  {
   "cell_type": "code",
   "execution_count": 232,
   "metadata": {},
   "outputs": [
    {
     "name": "stdout",
     "output_type": "stream",
     "text": [
      "1\n",
      "2\n",
      "Fizz\n",
      "4\n",
      "Buzz\n",
      "Fizz\n",
      "7\n",
      "8\n",
      "Fizz\n",
      "Buzz\n",
      "11\n",
      "Fizz\n",
      "13\n",
      "14\n",
      "FizzBuzz\n",
      "16\n",
      "17\n",
      "Fizz\n",
      "19\n",
      "Buzz\n",
      "Fizz\n",
      "22\n",
      "23\n",
      "Fizz\n",
      "Buzz\n",
      "26\n",
      "Fizz\n",
      "28\n",
      "29\n",
      "FizzBuzz\n",
      "31\n",
      "32\n",
      "Fizz\n",
      "34\n",
      "Buzz\n",
      "Fizz\n",
      "37\n",
      "38\n",
      "Fizz\n",
      "Buzz\n",
      "41\n",
      "Fizz\n",
      "43\n",
      "44\n",
      "FizzBuzz\n",
      "46\n",
      "47\n",
      "Fizz\n",
      "49\n",
      "Buzz\n",
      "Fizz\n",
      "52\n",
      "53\n",
      "Fizz\n",
      "Buzz\n",
      "56\n",
      "Fizz\n",
      "58\n",
      "59\n",
      "FizzBuzz\n",
      "61\n",
      "62\n",
      "Fizz\n",
      "64\n",
      "Buzz\n",
      "Fizz\n",
      "67\n",
      "68\n",
      "Fizz\n",
      "Buzz\n",
      "71\n",
      "Fizz\n",
      "73\n",
      "74\n",
      "FizzBuzz\n",
      "76\n",
      "77\n",
      "Fizz\n",
      "79\n",
      "Buzz\n",
      "Fizz\n",
      "82\n",
      "83\n",
      "Fizz\n",
      "Buzz\n",
      "86\n",
      "Fizz\n",
      "88\n",
      "89\n",
      "FizzBuzz\n",
      "91\n",
      "92\n",
      "Fizz\n",
      "94\n",
      "Buzz\n",
      "Fizz\n",
      "97\n",
      "98\n",
      "Fizz\n",
      "Buzz\n"
     ]
    }
   ],
   "source": [
    "for i in range(1,101):\n",
    "    if i % 15 == 0:\n",
    "        print(\"FizzBuzz\")\n",
    "    elif i % 3 == 0: \n",
    "        print(\"Fizz\")\n",
    "    elif i % 5 == 0: \n",
    "        print(\"Buzz\")\n",
    "    else:\n",
    "        print(i)\n",
    "        \n",
    "#I iterated through the range 1-101 and checked if it was divisible by 15. \n",
    "# if it was divisible by 15, it would print fizzbuzz. \n",
    "# if it was not divisible by 15, but divisible by 3, it printed Fizz \n",
    "# if it was not divisible by 15, but divisible by 5, it printed Buzz\n",
    "# if none of these if statements were satisfied, it would print the number. \n"
   ]
  },
  {
   "cell_type": "code",
   "execution_count": null,
   "metadata": {},
   "outputs": [],
   "source": []
  }
 ],
 "metadata": {
  "anaconda-cloud": {},
  "kernelspec": {
   "display_name": "Python 3",
   "language": "python",
   "name": "python3"
  },
  "language_info": {
   "codemirror_mode": {
    "name": "ipython",
    "version": 3
   },
   "file_extension": ".py",
   "mimetype": "text/x-python",
   "name": "python",
   "nbconvert_exporter": "python",
   "pygments_lexer": "ipython3",
   "version": "3.7.4"
  }
 },
 "nbformat": 4,
 "nbformat_minor": 2
}
