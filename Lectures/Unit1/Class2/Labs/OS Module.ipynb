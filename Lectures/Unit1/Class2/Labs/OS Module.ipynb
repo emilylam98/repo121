{
 "cells": [
  {
   "cell_type": "code",
   "execution_count": 1,
   "metadata": {},
   "outputs": [],
   "source": [
    "import os "
   ]
  },
  {
   "cell_type": "code",
   "execution_count": 6,
   "metadata": {},
   "outputs": [
    {
     "data": {
      "text/plain": [
       "['Loops - Basic.ipynb',\n",
       " 'Untitled.ipynb',\n",
       " 'If-Elif-Else-Basic.ipynb',\n",
       " 'If-Elif-Else Intermediate.ipynb',\n",
       " '.ipynb_checkpoints',\n",
       " 'Loops - Intermediate.ipynb']"
      ]
     },
     "execution_count": 6,
     "metadata": {},
     "output_type": "execute_result"
    }
   ],
   "source": [
    "os.listdir()"
   ]
  },
  {
   "cell_type": "code",
   "execution_count": 16,
   "metadata": {},
   "outputs": [
    {
     "data": {
      "text/plain": [
       "'/Users/emilylam/Desktop/DAT/repo121/Lectures/Unit1/Class2/Labs'"
      ]
     },
     "execution_count": 16,
     "metadata": {},
     "output_type": "execute_result"
    }
   ],
   "source": [
    "pwd"
   ]
  },
  {
   "cell_type": "code",
   "execution_count": 9,
   "metadata": {},
   "outputs": [],
   "source": [
    "path='../../../../../../../downloads'"
   ]
  },
  {
   "cell_type": "code",
   "execution_count": 14,
   "metadata": {},
   "outputs": [],
   "source": [
    "csv_files=[]\n",
    "for file in os.listdir(path):\n",
    "    if file[-4:]=='.csv':\n",
    "        csv_files.append(file)"
   ]
  },
  {
   "cell_type": "code",
   "execution_count": 15,
   "metadata": {},
   "outputs": [
    {
     "name": "stdout",
     "output_type": "stream",
     "text": [
      "['multiTimeline.csv', 'tubularlabs_dealmaker_export_20190731_152542_124237.csv', 'price_data.csv', 'campaign_11_2_17_Acwell_Licorice_Toner_Engaged_Format_Test_Combo_2_Nov_21_2017.csv', 'Instagram Profiles-08-01-2017-09-30-2017.csv', 'price_data (1).csv', 'Josh Peck_demographics_20190508_180824.csv', 'MYSTUDENTDATA.csv']\n"
     ]
    }
   ],
   "source": [
    "print(csv_files)"
   ]
  },
  {
   "cell_type": "code",
   "execution_count": null,
   "metadata": {},
   "outputs": [],
   "source": []
  }
 ],
 "metadata": {
  "kernelspec": {
   "display_name": "Python 3",
   "language": "python",
   "name": "python3"
  },
  "language_info": {
   "codemirror_mode": {
    "name": "ipython",
    "version": 3
   },
   "file_extension": ".py",
   "mimetype": "text/x-python",
   "name": "python",
   "nbconvert_exporter": "python",
   "pygments_lexer": "ipython3",
   "version": "3.7.4"
  }
 },
 "nbformat": 4,
 "nbformat_minor": 2
}
