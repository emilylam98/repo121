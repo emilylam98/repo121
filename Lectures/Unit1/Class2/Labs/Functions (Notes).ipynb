{
 "cells": [
  {
   "cell_type": "code",
   "execution_count": null,
   "metadata": {},
   "outputs": [],
   "source": [
    "#FUNCTIONS + RETURN VALUES"
   ]
  },
  {
   "cell_type": "code",
   "execution_count": 1,
   "metadata": {},
   "outputs": [],
   "source": [
    "def some_function():\n",
    "    print(\"Serves no purpose\")"
   ]
  },
  {
   "cell_type": "code",
   "execution_count": 4,
   "metadata": {},
   "outputs": [
    {
     "name": "stdout",
     "output_type": "stream",
     "text": [
      "Serves no purpose\n"
     ]
    }
   ],
   "source": [
    "some_function()"
   ]
  },
  {
   "cell_type": "code",
   "execution_count": 7,
   "metadata": {},
   "outputs": [
    {
     "name": "stdout",
     "output_type": "stream",
     "text": [
      "Serves no purpose\n"
     ]
    }
   ],
   "source": [
    "#saving value of function \n",
    "val = some_function()\n",
    "#value of val = none, because some_function does not return anything, cannot return a print"
   ]
  },
  {
   "cell_type": "code",
   "execution_count": 8,
   "metadata": {},
   "outputs": [],
   "source": [
    "def new_function():\n",
    "    return\"Serves no purpose\"\n",
    "val2 = new_function()"
   ]
  },
  {
   "cell_type": "code",
   "execution_count": 10,
   "metadata": {},
   "outputs": [
    {
     "data": {
      "text/plain": [
       "'Serves no purpose'"
      ]
     },
     "execution_count": 10,
     "metadata": {},
     "output_type": "execute_result"
    }
   ],
   "source": [
    "new_function()"
   ]
  },
  {
   "cell_type": "code",
   "execution_count": 11,
   "metadata": {},
   "outputs": [
    {
     "data": {
      "text/plain": [
       "'Serves no purpose'"
      ]
     },
     "execution_count": 11,
     "metadata": {},
     "output_type": "execute_result"
    }
   ],
   "source": [
    "#here, val2 the value is the string 'serves no purpose', which is the returned value\n",
    "val2"
   ]
  },
  {
   "cell_type": "code",
   "execution_count": 12,
   "metadata": {},
   "outputs": [],
   "source": [
    "# return f\"STRING: {variable}\"\n",
    "def inserts_into_string(arg):\n",
    "    return f\"The value of arg: {arg}\""
   ]
  },
  {
   "cell_type": "code",
   "execution_count": 13,
   "metadata": {},
   "outputs": [
    {
     "data": {
      "text/plain": [
       "'The value of arg: 32'"
      ]
     },
     "execution_count": 13,
     "metadata": {},
     "output_type": "execute_result"
    }
   ],
   "source": [
    "#cannot call inserts_into_string(), because an argument must be accepted\n",
    "\n",
    "inserts_into_string(32)"
   ]
  },
  {
   "cell_type": "code",
   "execution_count": 15,
   "metadata": {},
   "outputs": [
    {
     "data": {
      "text/plain": [
       "'The value of arg: 3, arg 2: 8'"
      ]
     },
     "execution_count": 15,
     "metadata": {},
     "output_type": "execute_result"
    }
   ],
   "source": [
    "def inserts_into_string2(arg, arg2):\n",
    "    return f\"The value of arg: {arg}, arg 2: {arg2}\"\n",
    "inserts_into_string2(3, 8)"
   ]
  },
  {
   "cell_type": "code",
   "execution_count": 18,
   "metadata": {},
   "outputs": [
    {
     "name": "stdout",
     "output_type": "stream",
     "text": [
      "arg 2 is bigger\n"
     ]
    }
   ],
   "source": [
    "def compare_vals (arg1, arg2):\n",
    "    if arg1> arg2:\n",
    "        print(\"arg 1 is bigger\")\n",
    "    else:\n",
    "        print(\"arg 2 is bigger\")\n",
    "compare_vals (21, 23)"
   ]
  },
  {
   "cell_type": "code",
   "execution_count": 19,
   "metadata": {},
   "outputs": [],
   "source": [
    "import pandas as pd"
   ]
  },
  {
   "cell_type": "code",
   "execution_count": 30,
   "metadata": {},
   "outputs": [
    {
     "ename": "NameError",
     "evalue": "name 'arg3' is not defined",
     "output_type": "error",
     "traceback": [
      "\u001b[0;31m---------------------------------------------------------------------------\u001b[0m",
      "\u001b[0;31mNameError\u001b[0m                                 Traceback (most recent call last)",
      "\u001b[0;32m<ipython-input-30-054696fd9f28>\u001b[0m in \u001b[0;36m<module>\u001b[0;34m\u001b[0m\n\u001b[1;32m      4\u001b[0m     \u001b[0;32melse\u001b[0m\u001b[0;34m:\u001b[0m\u001b[0;34m\u001b[0m\u001b[0;34m\u001b[0m\u001b[0m\n\u001b[1;32m      5\u001b[0m         \u001b[0mprint\u001b[0m\u001b[0;34m(\u001b[0m\u001b[0;34m\"arg 4 is bigger\"\u001b[0m\u001b[0;34m)\u001b[0m\u001b[0;34m\u001b[0m\u001b[0;34m\u001b[0m\u001b[0m\n\u001b[0;32m----> 6\u001b[0;31m \u001b[0mcompare_vals2\u001b[0m\u001b[0;34m(\u001b[0m\u001b[0marg3\u001b[0m\u001b[0;34m,\u001b[0m \u001b[0marg4\u001b[0m\u001b[0;34m)\u001b[0m\u001b[0;34m\u001b[0m\u001b[0;34m\u001b[0m\u001b[0m\n\u001b[0m",
      "\u001b[0;31mNameError\u001b[0m: name 'arg3' is not defined"
     ]
    }
   ],
   "source": [
    "def compare_vals2(arg3=21, arg4=23):\n",
    "    if arg3 > arg4:\n",
    "        print(\"arg 3 is bigger\")\n",
    "    else:\n",
    "        print(\"arg 4 is bigger\")\n",
    "compare_vals2(arg3, arg4)"
   ]
  },
  {
   "cell_type": "code",
   "execution_count": 33,
   "metadata": {},
   "outputs": [
    {
     "data": {
      "text/plain": [
       "'arg2 is bigger'"
      ]
     },
     "execution_count": 33,
     "metadata": {},
     "output_type": "execute_result"
    }
   ],
   "source": [
    "#TO MAKE AN ARGUMENT OPTIONAL, SET IT TO NONE \n",
    "def is_arg1_bigger(arg1=23, arg2=25, print_message=None):\n",
    "    if print_message != None: \n",
    "        if arg1 > arg2: \n",
    "            return \"arg1 is bigger\"\n",
    "        else: \n",
    "            return \"arg2 is bigger\"\n",
    "    return arg1 > arg2\n",
    "\n",
    "#return is the new else statement. When coding, else statements \n",
    "#are not even necessary because returns are more functional. \n"
   ]
  },
  {
   "cell_type": "code",
   "execution_count": 34,
   "metadata": {},
   "outputs": [
    {
     "data": {
      "text/plain": [
       "'arg2 is bigger'"
      ]
     },
     "execution_count": 34,
     "metadata": {},
     "output_type": "execute_result"
    }
   ],
   "source": [
    "is_arg1_bigger(print_message=True)"
   ]
  },
  {
   "cell_type": "code",
   "execution_count": 35,
   "metadata": {},
   "outputs": [],
   "source": [
    "#THE ORDER OF THE ARGUMENTS ONLY MATTERS WHEN THEY'RE POSITIONAL RATHER THAN SPECIFIED (IS_ARG1_BIGGER)\n",
    "def is_arg1_bigger2(arg1, arg2, print_message=None):\n",
    "    if print_message != None: \n",
    "        if arg1 > arg2: \n",
    "            return \"arg1 is bigger\"\n",
    "        else: \n",
    "            return \"arg2 is bigger\"\n",
    "    return arg1 > arg2 #RETURNS TRUE/FALSE"
   ]
  },
  {
   "cell_type": "code",
   "execution_count": 36,
   "metadata": {},
   "outputs": [
    {
     "data": {
      "text/plain": [
       "False"
      ]
     },
     "execution_count": 36,
     "metadata": {},
     "output_type": "execute_result"
    }
   ],
   "source": [
    "is_arg1_bigger2(34, 43)"
   ]
  },
  {
   "cell_type": "code",
   "execution_count": 38,
   "metadata": {},
   "outputs": [
    {
     "ename": "SyntaxError",
     "evalue": "positional argument follows keyword argument (<ipython-input-38-35e7577c4197>, line 3)",
     "output_type": "error",
     "traceback": [
      "\u001b[0;36m  File \u001b[0;32m\"<ipython-input-38-35e7577c4197>\"\u001b[0;36m, line \u001b[0;32m3\u001b[0m\n\u001b[0;31m    is_arg1_bigger2(print_message=None, 37, 43)\u001b[0m\n\u001b[0m                                       ^\u001b[0m\n\u001b[0;31mSyntaxError\u001b[0m\u001b[0;31m:\u001b[0m positional argument follows keyword argument\n"
     ]
    }
   ],
   "source": [
    "#will show syntaxerror because the function takes positional arguments. \n",
    "\n",
    "is_arg1_bigger2(print_message=None, 37, 43)"
   ]
  },
  {
   "cell_type": "code",
   "execution_count": 40,
   "metadata": {},
   "outputs": [
    {
     "data": {
      "text/plain": [
       "(5, 6, 'apple')"
      ]
     },
     "execution_count": 40,
     "metadata": {},
     "output_type": "execute_result"
    }
   ],
   "source": [
    "# the asterisk(*) allows as many arguments as needed. \n",
    "def return_all_values(*args):\n",
    "    return args\n",
    "\n",
    "return_all_values(5, 6, \"apple\")"
   ]
  },
  {
   "cell_type": "code",
   "execution_count": 47,
   "metadata": {},
   "outputs": [
    {
     "data": {
      "text/plain": [
       "22"
      ]
     },
     "execution_count": 47,
     "metadata": {},
     "output_type": "execute_result"
    }
   ],
   "source": [
    "def sum_all_values(*args):\n",
    "    return sum(args)\n",
    "sum_all_values(5, 6, 7, 1, 3)"
   ]
  },
  {
   "cell_type": "code",
   "execution_count": 45,
   "metadata": {},
   "outputs": [
    {
     "data": {
      "text/plain": [
       "{'a': 1, 'b': 2, 'c': 3}"
      ]
     },
     "execution_count": 45,
     "metadata": {},
     "output_type": "execute_result"
    }
   ],
   "source": [
    "# double asterisk (**) returns all values as dictionary\n",
    "def dict_all_values(**kwangs):\n",
    "    return kwangs\n",
    "    #will loop through all arguments\n",
    "dict_all_values(a=1, b=2, c=3)"
   ]
  },
  {
   "cell_type": "code",
   "execution_count": null,
   "metadata": {},
   "outputs": [],
   "source": []
  }
 ],
 "metadata": {
  "kernelspec": {
   "display_name": "Python 3",
   "language": "python",
   "name": "python3"
  },
  "language_info": {
   "codemirror_mode": {
    "name": "ipython",
    "version": 3
   },
   "file_extension": ".py",
   "mimetype": "text/x-python",
   "name": "python",
   "nbconvert_exporter": "python",
   "pygments_lexer": "ipython3",
   "version": "3.7.4"
  }
 },
 "nbformat": 4,
 "nbformat_minor": 2
}
