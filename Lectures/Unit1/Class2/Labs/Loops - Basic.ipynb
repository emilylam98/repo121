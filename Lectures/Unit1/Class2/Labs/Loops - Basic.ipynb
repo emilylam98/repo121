{
 "cells": [
  {
   "cell_type": "markdown",
   "metadata": {},
   "source": [
    "### Basic Loops\n",
    "\n",
    "**Who This Workbook Is For**:  If you're newer to python and want to do simple exercises to make sure you feel like you 'get it', and don't have any confusions about basic syntax, then this is the workbook for you.\n",
    "\n",
    "If you want something more engaging that's not geared towards beginners, please use the other workbook."
   ]
  },
  {
   "cell_type": "markdown",
   "metadata": {},
   "source": [
    "**Step 1:** Loop through the list, and print the name of each item in the list. "
   ]
  },
  {
   "cell_type": "code",
   "execution_count": null,
   "metadata": {},
   "outputs": [],
   "source": [
    "fruits = ['bananas', 'cumquat', 'watermelon', 'cherry', 'mango', 'soursop', 'apricot', 'nectarine']"
   ]
  },
  {
   "cell_type": "code",
   "execution_count": 2,
   "metadata": {},
   "outputs": [
    {
     "name": "stdout",
     "output_type": "stream",
     "text": [
      "bananas\n",
      "cumquat\n",
      "watermelon\n",
      "cherry\n",
      "mango\n",
      "soursop\n",
      "apricot\n",
      "nectarine\n"
     ]
    }
   ],
   "source": [
    "fruits = ['bananas', 'cumquat', 'watermelon', 'cherry', 'mango', 'soursop', 'apricot', 'nectarine']\n",
    "for x in fruits: \n",
    "    print(x)"
   ]
  },
  {
   "cell_type": "markdown",
   "metadata": {},
   "source": [
    "**Step 2:** Loop through the list, and print the name of each item, as well as its length"
   ]
  },
  {
   "cell_type": "code",
   "execution_count": 3,
   "metadata": {},
   "outputs": [
    {
     "name": "stdout",
     "output_type": "stream",
     "text": [
      "bananas\n",
      "7\n",
      "cumquat\n",
      "7\n",
      "watermelon\n",
      "10\n",
      "cherry\n",
      "6\n",
      "mango\n",
      "5\n",
      "soursop\n",
      "7\n",
      "apricot\n",
      "7\n",
      "nectarine\n",
      "9\n"
     ]
    }
   ],
   "source": [
    "fruits = ['bananas', 'cumquat', 'watermelon', 'cherry', 'mango', 'soursop', 'apricot', 'nectarine']\n",
    "for x in fruits: \n",
    "    print(x)\n",
    "    print(len(x))"
   ]
  },
  {
   "cell_type": "markdown",
   "metadata": {},
   "source": [
    "**Step 3:** Loop through the list, and print the name of the item, *if it's length is an even number*"
   ]
  },
  {
   "cell_type": "code",
   "execution_count": 5,
   "metadata": {},
   "outputs": [
    {
     "name": "stdout",
     "output_type": "stream",
     "text": [
      "bananas\n",
      "cumquat\n",
      "watermelon\n",
      "10\n",
      "cherry\n",
      "6\n",
      "mango\n",
      "soursop\n",
      "apricot\n",
      "nectarine\n"
     ]
    }
   ],
   "source": [
    "for x in fruits: \n",
    "    print(x)\n",
    "    if len(x)%2==0:\n",
    "        print(len(x))\n",
    "    "
   ]
  },
  {
   "cell_type": "markdown",
   "metadata": {},
   "source": [
    "**Step 4:** Create a variable that's an empty list, and add the item in the `fruits` list to it if it's length is an even number."
   ]
  },
  {
   "cell_type": "code",
   "execution_count": 11,
   "metadata": {},
   "outputs": [
    {
     "name": "stdout",
     "output_type": "stream",
     "text": [
      "['watermelon', 'cherry']\n"
     ]
    }
   ],
   "source": [
    "y=[]\n",
    "for x in fruits: \n",
    "    if len(x)%2==0:\n",
    "        y.append(x)\n",
    "print(y)"
   ]
  },
  {
   "cell_type": "markdown",
   "metadata": {},
   "source": [
    "**Step 5:** Loop through the `fruits` list, but *stop* the loop as soon as you come across an item that's more than 7 characters long."
   ]
  },
  {
   "cell_type": "code",
   "execution_count": 15,
   "metadata": {},
   "outputs": [
    {
     "name": "stdout",
     "output_type": "stream",
     "text": [
      "bananas\n",
      "cumquat\n"
     ]
    }
   ],
   "source": [
    "for x in fruits:\n",
    "    if len(x)<=7:\n",
    "        print(x)\n",
    "    else:\n",
    "        break"
   ]
  },
  {
   "cell_type": "markdown",
   "metadata": {},
   "source": [
    "**Step 6:** Create a loop that only prints every third item in the list\n",
    "\n",
    "**Hint:** `enumerate()` is a useful function for this sort of thing.  More info on that here:  https://www.programiz.com/python-programming/methods/built-in/enumerate"
   ]
  },
  {
   "cell_type": "code",
   "execution_count": 20,
   "metadata": {},
   "outputs": [
    {
     "name": "stdout",
     "output_type": "stream",
     "text": [
      "bananas\n",
      "cherry\n",
      "apricot\n"
     ]
    }
   ],
   "source": [
    "for x in fruits[::3]:\n",
    "    print(x)"
   ]
  },
  {
   "cell_type": "code",
   "execution_count": 21,
   "metadata": {},
   "outputs": [
    {
     "data": {
      "text/plain": [
       "['bananas',\n",
       " 'cumquat',\n",
       " 'watermelon',\n",
       " 'cherry',\n",
       " 'mango',\n",
       " 'soursop',\n",
       " 'apricot',\n",
       " 'nectarine']"
      ]
     },
     "execution_count": 21,
     "metadata": {},
     "output_type": "execute_result"
    }
   ],
   "source": [
    "fruits"
   ]
  },
  {
   "cell_type": "code",
   "execution_count": 25,
   "metadata": {},
   "outputs": [
    {
     "data": {
      "text/plain": [
       "['bananas', 'cherry', 'apricot']"
      ]
     },
     "execution_count": 25,
     "metadata": {},
     "output_type": "execute_result"
    }
   ],
   "source": [
    "fruits[::3]"
   ]
  },
  {
   "cell_type": "code",
   "execution_count": 28,
   "metadata": {},
   "outputs": [
    {
     "data": {
      "text/plain": [
       "['cumquat', 'cherry', 'soursop', 'nectarine']"
      ]
     },
     "execution_count": 28,
     "metadata": {},
     "output_type": "execute_result"
    }
   ],
   "source": [
    "fruits[1::2]"
   ]
  },
  {
   "cell_type": "code",
   "execution_count": 32,
   "metadata": {},
   "outputs": [
    {
     "name": "stdout",
     "output_type": "stream",
     "text": [
      "(0, 'bananas')\n",
      "(1, 'cumquat')\n",
      "(2, 'watermelon')\n",
      "(3, 'cherry')\n",
      "(4, 'mango')\n",
      "(5, 'soursop')\n",
      "(6, 'apricot')\n",
      "(7, 'nectarine')\n"
     ]
    }
   ],
   "source": [
    "for x in enumerate(fruits):\n",
    "    print(x)"
   ]
  },
  {
   "cell_type": "code",
   "execution_count": 42,
   "metadata": {},
   "outputs": [
    {
     "data": {
      "text/plain": [
       "0"
      ]
     },
     "execution_count": 42,
     "metadata": {},
     "output_type": "execute_result"
    }
   ],
   "source": [
    "fruits.index(x)"
   ]
  },
  {
   "cell_type": "code",
   "execution_count": 43,
   "metadata": {},
   "outputs": [
    {
     "ename": "TypeError",
     "evalue": "unsupported operand type(s) for %: 'tuple' and 'int'",
     "output_type": "error",
     "traceback": [
      "\u001b[0;31m---------------------------------------------------------------------------\u001b[0m",
      "\u001b[0;31mTypeError\u001b[0m                                 Traceback (most recent call last)",
      "\u001b[0;32m<ipython-input-43-3950359e9ee4>\u001b[0m in \u001b[0;36m<module>\u001b[0;34m\u001b[0m\n\u001b[1;32m      1\u001b[0m \u001b[0;32mfor\u001b[0m \u001b[0mx\u001b[0m \u001b[0;32min\u001b[0m \u001b[0menumerate\u001b[0m\u001b[0;34m(\u001b[0m\u001b[0mfruits\u001b[0m\u001b[0;34m)\u001b[0m\u001b[0;34m:\u001b[0m\u001b[0;34m\u001b[0m\u001b[0;34m\u001b[0m\u001b[0m\n\u001b[0;32m----> 2\u001b[0;31m     \u001b[0;32mif\u001b[0m \u001b[0mx\u001b[0m\u001b[0;34m%\u001b[0m\u001b[0;36m3\u001b[0m \u001b[0;34m==\u001b[0m \u001b[0;36m0\u001b[0m\u001b[0;34m:\u001b[0m\u001b[0;34m\u001b[0m\u001b[0;34m\u001b[0m\u001b[0m\n\u001b[0m\u001b[1;32m      3\u001b[0m         \u001b[0mprint\u001b[0m\u001b[0;34m(\u001b[0m\u001b[0mx\u001b[0m\u001b[0;34m)\u001b[0m\u001b[0;34m\u001b[0m\u001b[0;34m\u001b[0m\u001b[0m\n",
      "\u001b[0;31mTypeError\u001b[0m: unsupported operand type(s) for %: 'tuple' and 'int'"
     ]
    }
   ],
   "source": [
    "for x in enumerate(fruits):\n",
    "    if x%3 == 0:\n",
    "        print(x)"
   ]
  },
  {
   "cell_type": "code",
   "execution_count": null,
   "metadata": {},
   "outputs": [],
   "source": []
  }
 ],
 "metadata": {
  "kernelspec": {
   "display_name": "Python 3",
   "language": "python",
   "name": "python3"
  },
  "language_info": {
   "codemirror_mode": {
    "name": "ipython",
    "version": 3
   },
   "file_extension": ".py",
   "mimetype": "text/x-python",
   "name": "python",
   "nbconvert_exporter": "python",
   "pygments_lexer": "ipython3",
   "version": "3.7.4"
  }
 },
 "nbformat": 4,
 "nbformat_minor": 2
}
