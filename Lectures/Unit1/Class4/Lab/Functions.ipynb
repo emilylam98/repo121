{
 "cells": [
  {
   "cell_type": "markdown",
   "metadata": {},
   "source": [
    "<img src=\"http://imgur.com/1ZcRyrc.png\" style=\"float: left; margin: 20px; height: 55px\">\n",
    "\n",
    "## Python Review With Movie Data\n",
    "\n",
    "_Author: Kiefer Katovich and Dave Yerrington (San Francisco)\n",
    "\n",
    "---\n",
    "\n",
    "In this lab, you'll be using the [IMDb](http://www.imdb.com/) `movies` list below as your data set. \n",
    "\n",
    "This lab is designed to help you practice iteration and functions in particular. The normal questions are more gentle, and the challenge questions are suitable for advanced/expert Python students or those with programming experience. \n",
    "\n",
    "All of the questions require writing functions and using iteration to solve. You should print out a test of each function you write.\n",
    "\n",
    "\n",
    "### 1) Load the provided list of `movies` dictionaries."
   ]
  },
  {
   "cell_type": "code",
   "execution_count": 17,
   "metadata": {},
   "outputs": [],
   "source": [
    "# List of movies dictionaries:\n",
    "\n",
    "movies = [\n",
    "{\n",
    "\"name\": \"Usual Suspects\", \n",
    "\"imdb\": 7.0,\n",
    "\"category\": \"Thriller\"\n",
    "},\n",
    "{\n",
    "\"name\": \"Hitman\",\n",
    "\"imdb\": 6.3,\n",
    "\"category\": \"Action\"\n",
    "},\n",
    "{\n",
    "\"name\": \"Dark Knight\",\n",
    "\"imdb\": 9.0,\n",
    "\"category\": \"Adventure\"\n",
    "},\n",
    "{\n",
    "\"name\": \"The Help\",\n",
    "\"imdb\": 8.0,\n",
    "\"category\": \"Drama\"\n",
    "},\n",
    "{\n",
    "\"name\": \"The Choice\",\n",
    "\"imdb\": 6.2,\n",
    "\"category\": \"Romance\"\n",
    "},\n",
    "{\n",
    "\"name\": \"Colonia\",\n",
    "\"imdb\": 7.4,\n",
    "\"category\": \"Romance\"\n",
    "},\n",
    "{\n",
    "\"name\": \"Love\",\n",
    "\"imdb\": 6.0,\n",
    "\"category\": \"Romance\"\n",
    "},\n",
    "{\n",
    "\"name\": \"Bride Wars\",\n",
    "\"imdb\": 5.4,\n",
    "\"category\": \"Romance\"\n",
    "},\n",
    "{\n",
    "\"name\": \"AlphaJet\",\n",
    "\"imdb\": 3.2,\n",
    "\"category\": \"War\"\n",
    "},\n",
    "{\n",
    "\"name\": \"Ringing Crime\",\n",
    "\"imdb\": 4.0,\n",
    "\"category\": \"Crime\"\n",
    "},\n",
    "{\n",
    "\"name\": \"Joking muck\",\n",
    "\"imdb\": 7.2,\n",
    "\"category\": \"Comedy\"\n",
    "},\n",
    "{\n",
    "\"name\": \"What is the name\",\n",
    "\"imdb\": 9.2,\n",
    "\"category\": \"Suspense\"\n",
    "},\n",
    "{\n",
    "\"name\": \"Detective\",\n",
    "\"imdb\": 7.0,\n",
    "\"category\": \"Suspense\"\n",
    "},\n",
    "{\n",
    "\"name\": \"Exam\",\n",
    "\"imdb\": 4.2,\n",
    "\"category\": \"Thriller\"\n",
    "},\n",
    "{\n",
    "\"name\": \"We Two\",\n",
    "\"imdb\": 7.2,\n",
    "\"category\": \"Romance\"\n",
    "}\n",
    "]"
   ]
  },
  {
   "cell_type": "markdown",
   "metadata": {},
   "source": [
    "---\n",
    "\n",
    "### 2) Filtering data by IMDb score.\n",
    "\n",
    "#### 2.1)\n",
    "\n",
    "Write a function that:\n",
    "\n",
    "1) Accepts a single movie dictionary from the `movies` list as an argument.\n",
    "2) Returns `True` if the IMDb score is greater than 5.5.\n",
    "\n",
    "#### 2.2 [Challenge])\n",
    "\n",
    "Write a function that:\n",
    "\n",
    "1) Accepts the `movies` list and a specified category.\n",
    "2) Returns `True` if the average score of the category is higher than the average score of all movies."
   ]
  },
  {
   "cell_type": "code",
   "execution_count": 109,
   "metadata": {},
   "outputs": [
    {
     "data": {
      "text/plain": [
       "True"
      ]
     },
     "execution_count": 109,
     "metadata": {},
     "output_type": "execute_result"
    }
   ],
   "source": [
    "# 2.1\n",
    "\n",
    "def imdb_check(movie_name):\n",
    "    for movie in movies:\n",
    "        if movie_name == movie[\"name\"]:\n",
    "            if movie[\"imdb\"]>5.5:\n",
    "                return True\n",
    "            else:\n",
    "                return False\n",
    "imdb_check(\"Detective\")"
   ]
  },
  {
   "cell_type": "code",
   "execution_count": 77,
   "metadata": {},
   "outputs": [
    {
     "name": "stdout",
     "output_type": "stream",
     "text": [
      "Average total score is 6.486666666666667\n"
     ]
    },
    {
     "data": {
      "text/plain": [
       "False"
      ]
     },
     "execution_count": 77,
     "metadata": {},
     "output_type": "execute_result"
    }
   ],
   "source": [
    "#2.2\n",
    "total_score=0\n",
    "for movie in movies:\n",
    "    total_score+=movie[\"imdb\"]\n",
    "avg_score = total_score/len(movies)  \n",
    "print(\"Average total score is\",avg_score)\n",
    " \n",
    "\n",
    "def checkimdb(listname, user_category):\n",
    "    catmovies=[]\n",
    "    if listname==movies:\n",
    "        for movie in movies: \n",
    "            if movie[\"category\"] == user_category: \n",
    "                catmovies.append(movie[\"imdb\"])\n",
    "                avg_cat = sum(catmovies)/len(catmovies)\n",
    "                if avg_cat > avg_score: \n",
    "                    return True \n",
    "                if avg_cat < avg_score: \n",
    "                    return False\n",
    "                \n",
    "checkimdb(movies, \"Romance\")"
   ]
  },
  {
   "cell_type": "code",
   "execution_count": null,
   "metadata": {},
   "outputs": [],
   "source": [
    " if movie[\"category\"] == user_category: \n",
    "                catmovies.append[movie[\"imdb\"]]\n",
    "                total_cat+=movie[\"imdb\"]\n",
    "                avg_cat = total_cat/len(catmovies)"
   ]
  },
  {
   "cell_type": "markdown",
   "metadata": {},
   "source": [
    "---\n",
    "\n",
    "### 3) Creating subsets by numeric condition.\n",
    "\n",
    "#### 3.1)\n",
    "\n",
    "Write a function that:\n",
    "\n",
    "1) Accepts the list of movies and a specified IMDb score.\n",
    "2) Returns the sublist of movies that have scores greater than the one specified.\n",
    "\n",
    "#### 3.2 [Expert])\n",
    "\n",
    "Write a function that:\n",
    "\n",
    "1) Accepts the `movies` list as an argument.\n",
    "2) Returns the `movies` list sorted first by category and then by movie according to category average score and individual IMDB score, respectively.\n",
    "\n",
    "**Hint:  `lambda` functions are useful for this.**"
   ]
  },
  {
   "cell_type": "code",
   "execution_count": 107,
   "metadata": {},
   "outputs": [
    {
     "data": {
      "text/plain": [
       "['Thriller',\n",
       " 'Action',\n",
       " 'Adventure',\n",
       " 'Drama',\n",
       " 'Romance',\n",
       " 'War',\n",
       " 'Crime',\n",
       " 'Comedy',\n",
       " 'Suspense']"
      ]
     },
     "execution_count": 107,
     "metadata": {},
     "output_type": "execute_result"
    }
   ],
   "source": [
    "#3.2\n",
    "allcategories=[]\n",
    "for movie in movies: \n",
    "    if movie['category'] not in allcategories:\n",
    "        allcategories.append(movie['category'])\n",
    "for movie in movies: \n",
    "    if movies['category'==allcategories[0]:"
   ]
  },
  {
   "cell_type": "code",
   "execution_count": 122,
   "metadata": {},
   "outputs": [
    {
     "data": {
      "text/plain": [
       "[[1, 2], [4, 3], [5, 7], [2, 9]]"
      ]
     },
     "execution_count": 122,
     "metadata": {},
     "output_type": "execute_result"
    }
   ],
   "source": [
    "the_list=[[1,2],[5,7],[4,3],[2,9]]\n",
    "\n",
    "sorted (the_list, key = lambda x: x[1])"
   ]
  },
  {
   "cell_type": "code",
   "execution_count": 100,
   "metadata": {},
   "outputs": [
    {
     "data": {
      "text/plain": [
       "[{'name': 'Dark Knight', 'imdb': 9.0, 'category': 'Adventure'},\n",
       " {'name': 'The Help', 'imdb': 8.0, 'category': 'Drama'},\n",
       " {'name': 'Colonia', 'imdb': 7.4, 'category': 'Romance'},\n",
       " {'name': 'What is the name', 'imdb': 9.2, 'category': 'Suspense'}]"
      ]
     },
     "execution_count": 100,
     "metadata": {},
     "output_type": "execute_result"
    }
   ],
   "source": [
    "# 3.1 \n",
    "# Your code here.\n",
    "def checkimdb(listname, spec_imdb):\n",
    "    greatermovies=[]\n",
    "    for movie in movies: \n",
    "        if spec_imdb < movie['imdb']:\n",
    "            greatermovies.append(movie)\n",
    "    return greatermovies\n",
    "checkimdb(movies, 7.3)"
   ]
  },
  {
   "cell_type": "code",
   "execution_count": 101,
   "metadata": {},
   "outputs": [
    {
     "data": {
      "text/plain": [
       "[{'name': 'Dark Knight', 'imdb': 9.0, 'category': 'Adventure'},\n",
       " {'name': 'The Help', 'imdb': 8.0, 'category': 'Drama'},\n",
       " {'name': 'Colonia', 'imdb': 7.4, 'category': 'Romance'},\n",
       " {'name': 'What is the name', 'imdb': 9.2, 'category': 'Suspense'}]"
      ]
     },
     "execution_count": 101,
     "metadata": {},
     "output_type": "execute_result"
    }
   ],
   "source": [
    "# 3.2\n",
    "# Your code here.\n",
    "def checkimdb(listname, spec_imdb):\n",
    "    greatermovies=[movie for movie in movies if spec_imdb < movie['imdb']]\n",
    "    return greatermovies\n",
    "checkimdb(movies, 7.3)"
   ]
  },
  {
   "cell_type": "code",
   "execution_count": null,
   "metadata": {},
   "outputs": [],
   "source": []
  }
 ],
 "metadata": {
  "kernelspec": {
   "display_name": "Python 3",
   "language": "python",
   "name": "python3"
  },
  "language_info": {
   "codemirror_mode": {
    "name": "ipython",
    "version": 3
   },
   "file_extension": ".py",
   "mimetype": "text/x-python",
   "name": "python",
   "nbconvert_exporter": "python",
   "pygments_lexer": "ipython3",
   "version": "3.7.4"
  }
 },
 "nbformat": 4,
 "nbformat_minor": 1
}
