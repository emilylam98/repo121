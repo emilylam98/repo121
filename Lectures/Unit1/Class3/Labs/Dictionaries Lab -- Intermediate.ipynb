{
 "cells": [
  {
   "cell_type": "markdown",
   "metadata": {},
   "source": [
    "## Intermediate Lab:  Creating A Dataset Using the GitHub API\n",
    "\n",
    "In this lab you'll create a dataset containing all the meta information about your classmates github repos, using only the csv file with everyone's url.  \n",
    "\n",
    "The process will be done in these 4 general steps:\n",
    "\n",
    " - load in the csv file\n",
    " - clean the individual lines of each file to get them ready to use\n",
    " - connect to the GitHub api to obtain information about everyone's repos\n",
    " - re-structure this information to turn it into a dataframe.\n",
    " \n",
    "It'll be a great way to work through the first step of many data science problems: creating a workable dataset out of unorganized, messy data.  Let's get started!"
   ]
  },
  {
   "cell_type": "markdown",
   "metadata": {},
   "source": [
    "### Step 1:  Load in the csv file with everyone's github repo\n",
    "\n",
    "**Note:** There are a number of ways to do this, but the easiest way is usually this:\n",
    "\n",
    "    `with open('file.csv') as f:\n",
    "\n",
    "        data = f.readlines()`"
   ]
  },
  {
   "cell_type": "code",
   "execution_count": 32,
   "metadata": {},
   "outputs": [],
   "source": [
    "# your code here\n",
    "with open('repos.csv') as f:\n",
    "    data=f.readlines()"
   ]
  },
  {
   "cell_type": "markdown",
   "metadata": {},
   "source": [
    "What you should have now is a list, and each item is a string that contains the comma separated values of each cell in the row of that csv file.  \n",
    "\n",
    "It should generically look like this:\n",
    "\n",
    "    `['Name,Repo\\n',\n",
    "      'Person 1,https://github.com/username\\n',\n",
    "      'Person 2,https://github.com/username\\n',\n",
    "       ......\n",
    "       ]`\n",
    "\n",
    "Double check this is the case."
   ]
  },
  {
   "cell_type": "code",
   "execution_count": 75,
   "metadata": {},
   "outputs": [
    {
     "data": {
      "text/plain": [
       "['Aoife Duna,https://github.com/aoifeduna\\n',\n",
       " 'Christos Simos,https://github.com/simoschr\\n',\n",
       " 'Brittani Kauf,https://github.com/brittanikauf\\n',\n",
       " 'Stanford Turner,https://github.com/sturner08\\n',\n",
       " 'Shelly Seroussi,https://github.com/sturner08\\n',\n",
       " 'Shela Wu,https://github.com/misowu\\n',\n",
       " 'Rishabh Chandra,https://github.com/rishabhchandra35\\n',\n",
       " '\"Behrang \"\"Brian\"\" Bidadi\",https://github.com/brianb888\\n',\n",
       " 'Alec Schneider,https://github.com/Blitz33697\\n',\n",
       " 'Taku Takamatsu,https://github.com/taku-takamatsu\\n',\n",
       " 'Lindsey Gumann,https://github.com/lgumann\\n',\n",
       " 'David Hurley,https://github.com/davehurl\\n',\n",
       " 'Kina Abe,https://github.com/kinaabe57\\n',\n",
       " 'Elyse Chu,https://github.com/elysechu\\n',\n",
       " 'Michael Lawlor,https://github.com/lawlormj/sample_work\\n',\n",
       " 'Emily Lam,https://github.com/emilylam98\\n',\n",
       " 'Mike Golodner,https://github.com/mgolodner/ga_repo.git\\n',\n",
       " 'Siddharth Uppal,https://github.com/sid25393']"
      ]
     },
     "execution_count": 75,
     "metadata": {},
     "output_type": "execute_result"
    }
   ],
   "source": [
    "# your code here\n",
    "data\n"
   ]
  },
  {
   "cell_type": "markdown",
   "metadata": {},
   "source": [
    "The only thing we need out of each item is the persons username, that part contained in the string at: `https://github.com/username_here`.  Everything else is junk.  \n",
    "\n",
    "We'll need to go through a few steps to get our info down to a usable format.  "
   ]
  },
  {
   "cell_type": "markdown",
   "metadata": {},
   "source": [
    "### Step 2: Remove the `\\n` from each item in the list, as well as the item that contains the header info.\n",
    "\n",
    "When you're done you should have a list that looks like this:\n",
    "\n",
    "      `[\n",
    "      'Person 1,https://github.com/username',\n",
    "      'Person 2,https://github.com/username',\n",
    "       ......\n",
    "       ]`\n",
    "\n",
    "**hint:** The `replace()` method for strings is probably one of the more useful options that you have.  If you want to replace something with nothing, you can simply specify `\"\"` for that part."
   ]
  },
  {
   "cell_type": "code",
   "execution_count": 76,
   "metadata": {},
   "outputs": [
    {
     "data": {
      "text/plain": [
       "['Aoife Duna,https://github.com/aoifeduna',\n",
       " 'Christos Simos,https://github.com/simoschr',\n",
       " 'Brittani Kauf,https://github.com/brittanikauf',\n",
       " 'Stanford Turner,https://github.com/sturner08',\n",
       " 'Shelly Seroussi,https://github.com/sturner08',\n",
       " 'Shela Wu,https://github.com/misowu',\n",
       " 'Rishabh Chandra,https://github.com/rishabhchandra35',\n",
       " '\"Behrang \"\"Brian\"\" Bidadi\",https://github.com/brianb888',\n",
       " 'Alec Schneider,https://github.com/Blitz33697',\n",
       " 'Taku Takamatsu,https://github.com/taku-takamatsu',\n",
       " 'Lindsey Gumann,https://github.com/lgumann',\n",
       " 'David Hurley,https://github.com/davehurl',\n",
       " 'Kina Abe,https://github.com/kinaabe57',\n",
       " 'Elyse Chu,https://github.com/elysechu',\n",
       " 'Michael Lawlor,https://github.com/lawlormj/sample_work',\n",
       " 'Emily Lam,https://github.com/emilylam98',\n",
       " 'Mike Golodner,https://github.com/mgolodner/ga_repo.git',\n",
       " 'Siddharth Uppal,https://github.com/sid25393']"
      ]
     },
     "execution_count": 76,
     "metadata": {},
     "output_type": "execute_result"
    }
   ],
   "source": [
    "# your code here\n",
    "#\n",
    "newdata=[]\n",
    "for people in data:\n",
    "    y=people.replace('\\n',\"\")\n",
    "    newdata.append(y)\n",
    "newdata\n"
   ]
  },
  {
   "cell_type": "markdown",
   "metadata": {},
   "source": [
    "### Step 3:  Separate the url in each string from everything else\n",
    "\n",
    "When you're done you should have a new list that looks like this:\n",
    "\n",
    "    `[\n",
    "       'https://github.com/username',\n",
    "       'https://github.com/username',\n",
    "       ...\n",
    "     ]`\n",
    "     \n",
    "**hint:** The `split()` method will help you out here."
   ]
  },
  {
   "cell_type": "code",
   "execution_count": 79,
   "metadata": {},
   "outputs": [
    {
     "data": {
      "text/plain": [
       "['https://github.com/aoifeduna',\n",
       " 'https://github.com/simoschr',\n",
       " 'https://github.com/brittanikauf',\n",
       " 'https://github.com/sturner08',\n",
       " 'https://github.com/sturner08',\n",
       " 'https://github.com/misowu',\n",
       " 'https://github.com/rishabhchandra35',\n",
       " 'https://github.com/brianb888',\n",
       " 'https://github.com/Blitz33697',\n",
       " 'https://github.com/taku-takamatsu',\n",
       " 'https://github.com/lgumann',\n",
       " 'https://github.com/davehurl',\n",
       " 'https://github.com/kinaabe57',\n",
       " 'https://github.com/elysechu',\n",
       " 'https://github.com/lawlormj/sample_work',\n",
       " 'https://github.com/emilylam98',\n",
       " 'https://github.com/mgolodner/ga_repo.git',\n",
       " 'https://github.com/sid25393']"
      ]
     },
     "execution_count": 79,
     "metadata": {},
     "output_type": "execute_result"
    }
   ],
   "source": [
    "splitlinks=[]\n",
    "for newpeople in newdata:\n",
    "    splitpeople = newpeople.split(',')\n",
    "    splitlinks.append(splitpeople[1])\n",
    "\n",
    "splitlinks"
   ]
  },
  {
   "cell_type": "markdown",
   "metadata": {},
   "source": [
    "### Step 4:  Separate the username in each string from everything else\n",
    "\n",
    "When you're done you should have a new list that looks like this:\n",
    "\n",
    "    `[\n",
    "       'username1',\n",
    "       'username2',\n",
    "       ...\n",
    "     ]`"
   ]
  },
  {
   "cell_type": "code",
   "execution_count": 81,
   "metadata": {},
   "outputs": [
    {
     "data": {
      "text/plain": [
       "['Aoife Duna',\n",
       " 'Christos Simos',\n",
       " 'Brittani Kauf',\n",
       " 'Stanford Turner',\n",
       " 'Shelly Seroussi',\n",
       " 'Shela Wu',\n",
       " 'Rishabh Chandra',\n",
       " '\"Behrang \"\"Brian\"\" Bidadi\"',\n",
       " 'Alec Schneider',\n",
       " 'Taku Takamatsu',\n",
       " 'Lindsey Gumann',\n",
       " 'David Hurley',\n",
       " 'Kina Abe',\n",
       " 'Elyse Chu',\n",
       " 'Michael Lawlor',\n",
       " 'Emily Lam',\n",
       " 'Mike Golodner',\n",
       " 'Siddharth Uppal']"
      ]
     },
     "execution_count": 81,
     "metadata": {},
     "output_type": "execute_result"
    }
   ],
   "source": [
    "newsplitpeople=[]\n",
    "for newpeople in newdata:\n",
    "    splitpeople = newpeople.split(',')\n",
    "    newsplitpeople.append(splitpeople[0])\n",
    "\n",
    "newsplitpeople"
   ]
  },
  {
   "cell_type": "markdown",
   "metadata": {},
   "source": [
    "### Step 5: Obtain the repo data for every single github username\n",
    "\n",
    "The repository info for every single public account is available via the following url: `https://api.github.com/users/:the_username/repos`\n",
    "\n",
    "So basically, `requests.get('https://api.github.com/users/:the_username/repos').json()` will return a list filled with every single repo that user has.  \n",
    "\n",
    "When you're done, you should have a *list of lists*, with each list containing each users individual repos.  It'll look like this:\n",
    "\n",
    "`[[{user1, repo1}, {user1, repo2}], [{user2, repo1}], [{user3, repo1}, {user3, repo2}, {user3, repo3}], .....]`"
   ]
  },
  {
   "cell_type": "code",
   "execution_count": null,
   "metadata": {},
   "outputs": [],
   "source": [
    "# your code here\n"
   ]
  },
  {
   "cell_type": "markdown",
   "metadata": {},
   "source": [
    "### Step 6: Create a 'flat' list that contains every unique repo for every single user\n",
    "\n",
    "When you're done you should have a list that looks like this: `[{user1 repo1}, {user1 repo2}, ....{user n, repo m}]`\n",
    "\n",
    "Ie, no nested levels like you had before."
   ]
  },
  {
   "cell_type": "code",
   "execution_count": null,
   "metadata": {},
   "outputs": [],
   "source": [
    "# your code here\n",
    "#nested for-loop\n"
   ]
  },
  {
   "cell_type": "markdown",
   "metadata": {},
   "source": [
    "### Step 7:  Get information about the name, owner, url, and date of every single repo.\n",
    "\n",
    "In the dictionary for each repo there are keys called `name`, `login`, `html_url`, and `created_at`.  These are going to populate the values for our different columns.\n",
    "\n",
    "Values for each one of these keys will need to exist inside their own lists.\n",
    "\n",
    "**hint:** Notice that the `login` key is nested inside a dictionary that's the value to the `owner` key at the outer level."
   ]
  },
  {
   "cell_type": "code",
   "execution_count": null,
   "metadata": {},
   "outputs": [],
   "source": [
    "# your key here\n"
   ]
  },
  {
   "cell_type": "markdown",
   "metadata": {},
   "source": [
    "### Step 8:  Create a dictionary with the data created from step 7\n",
    "\n",
    "Your final output should look like this:\n",
    "\n",
    "    `{\n",
    "       'Owner': [list with the `login` values],\n",
    "       'Name' : [list with the `name` values],\n",
    "       'URL'  : [list with the `html_url` values],\n",
    "       'Date' : [list with the `created_at` values]\n",
    "     }`"
   ]
  },
  {
   "cell_type": "code",
   "execution_count": null,
   "metadata": {},
   "outputs": [],
   "source": [
    "# your answer here\n"
   ]
  },
  {
   "cell_type": "markdown",
   "metadata": {},
   "source": [
    "### Step 9:  Pass your dictionary into the `pd.dataframe()` method to get your final dataset  \n",
    "\n",
    "Use the `df.head()` method to confirm that you have something that's formatted appropriately."
   ]
  },
  {
   "cell_type": "code",
   "execution_count": null,
   "metadata": {},
   "outputs": [],
   "source": [
    "# your answer here\n"
   ]
  }
 ],
 "metadata": {
  "kernelspec": {
   "display_name": "Python 3",
   "language": "python",
   "name": "python3"
  },
  "language_info": {
   "codemirror_mode": {
    "name": "ipython",
    "version": 3
   },
   "file_extension": ".py",
   "mimetype": "text/x-python",
   "name": "python",
   "nbconvert_exporter": "python",
   "pygments_lexer": "ipython3",
   "version": "3.7.4"
  }
 },
 "nbformat": 4,
 "nbformat_minor": 2
}
